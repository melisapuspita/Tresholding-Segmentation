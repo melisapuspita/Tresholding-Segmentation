{
  "cells": [
    {
      "cell_type": "markdown",
      "metadata": {
        "id": "view-in-github",
        "colab_type": "text"
      },
      "source": [
        "<a href=\"https://colab.research.google.com/github/melisapuspita/Tresholding-Segmentation/blob/main/Thresholding_Segmentation.ipynb\" target=\"_parent\"><img src=\"https://colab.research.google.com/assets/colab-badge.svg\" alt=\"Open In Colab\"/></a>"
      ]
    },
    {
      "cell_type": "code",
      "execution_count": null,
      "metadata": {
        "id": "R1EYbTLsT7wf"
      },
      "outputs": [],
      "source": [
        "import cv2\n",
        "import numpy as np\n",
        "import matplotlib"
      ]
    },
    {
      "cell_type": "code",
      "execution_count": null,
      "metadata": {
        "id": "vpGmZq-TT7wi"
      },
      "outputs": [],
      "source": [
        "image = cv2.imread('dora.jpg', cv2.COLOR_BGR2RGB)\n",
        "cv2.imshow('Original Image', image)\n",
        "cv2.waitKey(0)"
      ]
    },
    {
      "cell_type": "code",
      "execution_count": null,
      "metadata": {
        "id": "iL4_UChkhQrn"
      },
      "outputs": [],
      "source": [
        "img = cv2.imread('dora.jpg', 0)  # Mode grayscale (0)"
      ]
    },
    {
      "cell_type": "code",
      "execution_count": null,
      "metadata": {
        "id": "BSuaR9dzT7wk"
      },
      "outputs": [],
      "source": [
        "_, thresh1_img = cv2.threshold(img, 19, 50, cv2.THRESH_BINARY)"
      ]
    },
    {
      "cell_type": "code",
      "execution_count": null,
      "metadata": {
        "id": "rFk3hhW5T7wl"
      },
      "outputs": [],
      "source": [
        "_, thresh2_img = cv2.threshold(img, 19, 50, cv2.THRESH_BINARY_INV)"
      ]
    },
    {
      "cell_type": "code",
      "execution_count": null,
      "metadata": {
        "id": "QdFCa3ULT7wl"
      },
      "outputs": [],
      "source": [
        "_, thresh3_img = cv2.threshold(img, 19, 50, cv2.THRESH_TOZERO)"
      ]
    },
    {
      "cell_type": "code",
      "execution_count": null,
      "metadata": {
        "id": "QjivczwKT7wm"
      },
      "outputs": [],
      "source": [
        "_, thresh4_img = cv2.threshold(img, 19, 50, cv2.THRESH_TOZERO_INV)"
      ]
    },
    {
      "cell_type": "code",
      "execution_count": null,
      "metadata": {
        "id": "zwoq-TyNT7wn"
      },
      "outputs": [],
      "source": [
        "_, thresh5_img = cv2.threshold(img, 19, 50, cv2.THRESH_TRUNC)"
      ]
    },
    {
      "cell_type": "code",
      "execution_count": null,
      "metadata": {
        "id": "o-XtobpQh2X-"
      },
      "outputs": [],
      "source": [
        "cv2.imshow('Grayscale Image', img)\n",
        "cv2.imshow('Thresholded Binary Image', thresh1_img)\n",
        "cv2.imshow('Thresholded Binari Inverted Image', thresh2_img)\n",
        "cv2.imshow('Thresholded Tozero Image', thresh3_img)\n",
        "cv2.imshow('Thresholded Tozero Inverted Image', thresh4_img)\n",
        "cv2.imshow('Thresholded Trunc Image', thresh5_img)\n",
        "cv2.waitKey(0)\n",
        "cv2.destroyAllWindows()"
      ]
    },
    {
      "cell_type": "code",
      "execution_count": null,
      "metadata": {
        "id": "7fDmac9Uj10m"
      },
      "outputs": [],
      "source": []
    }
  ],
  "metadata": {
    "colab": {
      "provenance": [],
      "include_colab_link": true
    },
    "kernelspec": {
      "display_name": "Python 3 (ipykernel)",
      "language": "python",
      "name": "python3"
    },
    "language_info": {
      "codemirror_mode": {
        "name": "ipython",
        "version": 3
      },
      "file_extension": ".py",
      "mimetype": "text/x-python",
      "name": "python",
      "nbconvert_exporter": "python",
      "pygments_lexer": "ipython3",
      "version": "3.11.3"
    }
  },
  "nbformat": 4,
  "nbformat_minor": 0
}